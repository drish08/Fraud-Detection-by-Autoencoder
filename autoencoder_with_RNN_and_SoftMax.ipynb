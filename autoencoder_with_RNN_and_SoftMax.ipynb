{
  "nbformat": 4,
  "nbformat_minor": 0,
  "metadata": {
    "colab": {
      "provenance": [],
      "include_colab_link": true
    },
    "kernelspec": {
      "name": "python3",
      "display_name": "Python 3"
    },
    "language_info": {
      "name": "python"
    }
  },
  "cells": [
    {
      "cell_type": "markdown",
      "metadata": {
        "id": "view-in-github",
        "colab_type": "text"
      },
      "source": [
        "<a href=\"https://colab.research.google.com/github/drish08/Fraud-Detection-by-Autoencoder/blob/main/autoencoder_with_RNN_and_SoftMax.ipynb\" target=\"_parent\"><img src=\"https://colab.research.google.com/assets/colab-badge.svg\" alt=\"Open In Colab\"/></a>"
      ]
    },
    {
      "cell_type": "code",
      "execution_count": null,
      "metadata": {
        "colab": {
          "base_uri": "https://localhost:8080/"
        },
        "id": "Y06axFPyyPgW",
        "outputId": "7242a952-1fbe-4b5e-bcec-f24242472c3b"
      },
      "outputs": [
        {
          "output_type": "stream",
          "name": "stdout",
          "text": [
            "Mounted at /content/drive\n"
          ]
        }
      ],
      "source": [
        "from google.colab import drive\n",
        "drive.mount('/content/drive')"
      ]
    },
    {
      "cell_type": "code",
      "source": [
        "import pandas as pd\n",
        "data = pd.read_csv('/content/drive/MyDrive/creditcard_2023.csv')\n",
        "data.head()\n",
        "data.shape"
      ],
      "metadata": {
        "colab": {
          "base_uri": "https://localhost:8080/"
        },
        "id": "ewnW9jsuyVsS",
        "outputId": "88f52e8a-8cdd-4e31-e6c0-26c30a3a02c5"
      },
      "execution_count": null,
      "outputs": [
        {
          "output_type": "execute_result",
          "data": {
            "text/plain": [
              "(568630, 31)"
            ]
          },
          "metadata": {},
          "execution_count": 3
        }
      ]
    },
    {
      "cell_type": "markdown",
      "source": [
        "# **5 FEATURES with RNN Classifier**"
      ],
      "metadata": {
        "id": "lzP_IDVs5Ydb"
      }
    },
    {
      "cell_type": "code",
      "source": [
        "import torch\n",
        "import torch.nn as nn\n",
        "from torch.autograd import Variable\n",
        "from torch.utils.data import DataLoader, TensorDataset\n",
        "from sklearn.model_selection import train_test_split\n",
        "from sklearn.preprocessing import StandardScaler\n",
        "import numpy as np\n",
        "import pandas as pd\n",
        "\n",
        "# Separating features and labels\n",
        "X = data.iloc[:, :-1].values  #last column is the target variable\n",
        "y = data.iloc[:, -1].values\n",
        "\n",
        "# Normalize the data\n",
        "scaler = StandardScaler()\n",
        "X = scaler.fit_transform(X)\n",
        "\n",
        "# Split the data into training and testing sets\n",
        "X_train, X_test, y_train, y_test = train_test_split(X, y, test_size=0.2, random_state=42)\n",
        "\n",
        "# Convert data to PyTorch tensors\n",
        "X_train_tensor = torch.Tensor(X_train)\n",
        "X_test_tensor = torch.Tensor(X_test)\n",
        "\n",
        "# Create DataLoader instances\n",
        "batch_size = 64\n",
        "train_dataset = TensorDataset(X_train_tensor)\n",
        "test_dataset = TensorDataset(X_test_tensor)\n",
        "train_loader = DataLoader(train_dataset, batch_size=batch_size, shuffle=True)\n",
        "test_loader = DataLoader(test_dataset, batch_size=batch_size, shuffle=False)\n",
        "\n",
        "# Autoencoder model\n",
        "class Autoencoder(nn.Module):\n",
        "    def __init__(self):\n",
        "        super(Autoencoder, self).__init__()\n",
        "        self.encoder = nn.Sequential(\n",
        "            nn.Linear(X_train.shape[1], 16),\n",
        "            nn.PReLU(16),\n",
        "            nn.BatchNorm1d(16),\n",
        "            nn.Linear(16, 5),\n",
        "            nn.PReLU(5),\n",
        "            nn.BatchNorm1d(5)\n",
        "        )\n",
        "        self.decoder = nn.Sequential(\n",
        "            nn.Linear(5, 16),\n",
        "            nn.PReLU(16),\n",
        "            nn.BatchNorm1d(16),\n",
        "            nn.Linear(16, X_train.shape[1])\n",
        "        )\n",
        "\n",
        "    def forward(self, x):\n",
        "        x = self.encoder(x)\n",
        "        x = self.decoder(x)\n",
        "        return x\n",
        "\n",
        "# Setting device\n",
        "cuda = torch.cuda.is_available()\n",
        "device = torch.device(\"cuda\" if cuda else \"cpu\")\n",
        "\n",
        "# Creating the model and moving it to the device\n",
        "autoencoder = Autoencoder().to(device)\n",
        "\n",
        "# Defining optimizer\n",
        "optimizer = torch.optim.Adam(params=autoencoder.parameters(), lr=0.005)\n",
        "\n",
        "# Training the autoencoder\n",
        "num_epochs = 5\n",
        "\n",
        "for epoch in range(num_epochs):\n",
        "    for batch_data, in train_loader:\n",
        "        batch_data = batch_data.to(device)\n",
        "\n",
        "        autoencoder.zero_grad()\n",
        "        reconstructions = autoencoder(batch_data)\n",
        "        loss = nn.functional.mse_loss(reconstructions, batch_data)\n",
        "        loss.backward()\n",
        "        optimizer.step()\n",
        "\n",
        "    print(f'Epoch {epoch + 1}/{num_epochs}, Loss: {loss.item():.4f}')\n",
        "\n",
        "# Extracting encoded features from the test set\n",
        "encoded_features = []\n",
        "with torch.no_grad():\n",
        "    for batch_data, in test_loader:\n",
        "        batch_data = batch_data.to(device)\n",
        "        encoded_batch = autoencoder.encoder(batch_data)\n",
        "        encoded_features.append(encoded_batch.cpu().numpy())\n",
        "\n",
        "# Concatenating the encoded features\n",
        "encoded_features = np.concatenate(encoded_features, axis=0)\n",
        "\n",
        "# Printing the shape of the encoded features\n",
        "print(\"Shape of Encoded Features:\", encoded_features.shape)\n",
        "\n",
        "# Split the encoded features into training and testing sets for classification\n",
        "X_classify_train, X_classify_test, y_classify_train, y_classify_test = train_test_split(encoded_features, y_test, test_size=0.2, random_state=42)\n",
        "\n",
        "# Converting encoded features and labels to PyTorch tensor\n",
        "X_classify_train_tensor = torch.Tensor(X_classify_train)\n",
        "y_classify_train_tensor = torch.Tensor(y_classify_train).long()\n",
        "\n",
        "# Create DataLoader instance for the encoded features and labels\n",
        "classify_train_dataset = TensorDataset(X_classify_train_tensor, y_classify_train_tensor)\n",
        "classify_train_loader = DataLoader(classify_train_dataset, batch_size=batch_size, shuffle=True)\n",
        "\n",
        "import torch.nn.functional as F\n",
        "\n",
        "# Convert encoded features and labels to PyTorch tensor\n",
        "X_classify_train_tensor = torch.Tensor(X_classify_train)\n",
        "y_classify_train_tensor = torch.Tensor(y_classify_train).long()\n",
        "\n",
        "# Create DataLoader instance for the encoded features and labels\n",
        "classify_train_dataset = TensorDataset(X_classify_train_tensor, y_classify_train_tensor)\n",
        "classify_train_loader = DataLoader(classify_train_dataset, batch_size=batch_size, shuffle=True)\n",
        "\n",
        "# Defining the RNN classifier\n",
        "class RNNClassifier(nn.Module):\n",
        "    def __init__(self, input_size, rnn_hidden_size, num_classes):\n",
        "        super(RNNClassifier, self).__init__()\n",
        "        self.rnn = nn.GRU(input_size=input_size, hidden_size=rnn_hidden_size, batch_first=True)\n",
        "        self.fc = nn.Linear(rnn_hidden_size, num_classes)\n",
        "\n",
        "    def forward(self, x):\n",
        "        out, _ = self.rnn(x)\n",
        "        out = self.fc(out[:, -1, :])  # Using the last output of the sequence\n",
        "        return out\n",
        "\n",
        "# Parameters for RNN classifier\n",
        "rnn_hidden_size_classify = 64\n",
        "num_classes_classify = 2  #binary classification\n",
        "\n",
        "# Creating the RNN classifier model and moving to the device\n",
        "rnn_model_classify = RNNClassifier(\n",
        "    input_size=encoded_features.shape[1], rnn_hidden_size=rnn_hidden_size_classify, num_classes=num_classes_classify\n",
        ").to(device)\n",
        "\n",
        "# Defining the optimizer and criterion for classification\n",
        "optimizer_classify = torch.optim.Adam(params=rnn_model_classify.parameters(), lr=0.001)\n",
        "criterion_classify = nn.CrossEntropyLoss()\n",
        "\n",
        "# Training the RNN classifier\n",
        "num_epochs_classify = 10\n",
        "\n",
        "for epoch in range(num_epochs_classify):\n",
        "    for batch_data_classify, batch_labels_classify in classify_train_loader:\n",
        "        optimizer_classify.zero_grad()\n",
        "        outputs_classify = rnn_model_classify(batch_data_classify.unsqueeze(1))  # unsqueeze for sequence dimension\n",
        "        loss_classify = criterion_classify(outputs_classify, batch_labels_classify.long())\n",
        "        loss_classify.backward()\n",
        "        optimizer_classify.step()\n",
        "\n",
        "    print(f'Epoch {epoch + 1}/{num_epochs_classify}, Loss: {loss_classify.item():.4f}')\n",
        "\n",
        "# Evaluating the RNN classifier on the test set\n",
        "X_classify_test_tensor = torch.Tensor(X_classify_test)\n",
        "y_classify_test_tensor = torch.Tensor(y_classify_test).long()\n",
        "\n",
        "with torch.no_grad():\n",
        "    rnn_model_classify.eval()\n",
        "    outputs_test_classify = rnn_model_classify(X_classify_test_tensor.unsqueeze(1))\n",
        "    predictions_classify = torch.argmax(F.softmax(outputs_test_classify, dim=1), dim=1)\n",
        "\n",
        "# Print classification report\n",
        "from sklearn.metrics import classification_report\n",
        "print(\"Classification Report:\\n\", classification_report(y_classify_test, predictions_classify.cpu().numpy()))\n",
        "\n",
        "# Plot the confusion matrix\n",
        "from sklearn.metrics import confusion_matrix\n",
        "import seaborn as sns\n",
        "import matplotlib.pyplot as plt\n",
        "\n",
        "cm = confusion_matrix(y_classify_test, predictions_classify.cpu().numpy())\n",
        "plt.figure(figsize=(8, 6))\n",
        "sns.heatmap(cm, annot=True, fmt=\"d\", cmap=\"Blues\", cbar=False)\n",
        "plt.xlabel(\"Predicted\")\n",
        "plt.ylabel(\"True\")\n",
        "plt.title(\"Confusion Matrix\")\n",
        "plt.show()"
      ],
      "metadata": {
        "colab": {
          "base_uri": "https://localhost:8080/",
          "height": 1000
        },
        "id": "58NXA_SuygRm",
        "outputId": "805e6abc-8249-4881-9a33-c27647fb11cd"
      },
      "execution_count": null,
      "outputs": [
        {
          "output_type": "stream",
          "name": "stdout",
          "text": [
            "Epoch 1/5, Loss: 0.4223\n",
            "Epoch 2/5, Loss: 0.4964\n",
            "Epoch 3/5, Loss: 0.3630\n",
            "Epoch 4/5, Loss: 0.2162\n",
            "Epoch 5/5, Loss: 0.2702\n",
            "Shape of Encoded Features: (113726, 5)\n",
            "Epoch 1/10, Loss: 0.0139\n",
            "Epoch 2/10, Loss: 0.0319\n",
            "Epoch 3/10, Loss: 0.0694\n",
            "Epoch 4/10, Loss: 0.0878\n",
            "Epoch 5/10, Loss: 0.0699\n",
            "Epoch 6/10, Loss: 0.1293\n",
            "Epoch 7/10, Loss: 0.3919\n",
            "Epoch 8/10, Loss: 0.0172\n",
            "Epoch 9/10, Loss: 0.1548\n",
            "Epoch 10/10, Loss: 0.0567\n",
            "Classification Report:\n",
            "               precision    recall  f1-score   support\n",
            "\n",
            "           0       0.94      0.98      0.96     11311\n",
            "           1       0.98      0.94      0.96     11435\n",
            "\n",
            "    accuracy                           0.96     22746\n",
            "   macro avg       0.96      0.96      0.96     22746\n",
            "weighted avg       0.96      0.96      0.96     22746\n",
            "\n"
          ]
        },
        {
          "output_type": "display_data",
          "data": {
            "text/plain": [
              "<Figure size 800x600 with 1 Axes>"
            ],
            "image/png": "[encoded data removed]"
          },
          "metadata": {}
        }
      ]
    },
    {
      "cell_type": "markdown",
      "source": [
        "# **5 FEATURE with SoftMax Classifier**"
      ],
      "metadata": {
        "id": "IfuJ3-cZ5kX5"
      }
    },
    {
      "cell_type": "code",
      "source": [
        "import torch.nn.functional as F\n",
        "from sklearn.metrics import classification_report, confusion_matrix\n",
        "import seaborn as sns\n",
        "import matplotlib.pyplot as plt\n",
        "\n",
        "#'encoded_dim' is the number of features after encoding\n",
        "class SoftmaxClassifier(nn.Module):\n",
        "    def __init__(self, input_size, num_classes):\n",
        "        super(SoftmaxClassifier, self).__init__()\n",
        "        self.fc = nn.Linear(input_size, num_classes)\n",
        "\n",
        "    def forward(self, x):\n",
        "        return self.fc(x)\n",
        "\n",
        "# Print the shape of the encoded features\n",
        "print(\"Shape of Encoded Features:\", encoded_features.shape)\n",
        "\n",
        "# Define the number of features after encoding\n",
        "encoded_dim = encoded_features.shape[1]\n",
        "\n",
        "# Set up the softmax classifier model\n",
        "num_classes_softmax = 2  # Assuming binary classification\n",
        "softmax_model = SoftmaxClassifier(input_size=encoded_dim, num_classes=num_classes_softmax).to(device)\n",
        "\n",
        "# Define loss function and optimizer\n",
        "criterion_softmax = nn.CrossEntropyLoss()\n",
        "optimizer_softmax = torch.optim.Adam(params=softmax_model.parameters(), lr=0.001)\n",
        "\n",
        "# Training the softmax classifier\n",
        "num_epochs_softmax = 5\n",
        "\n",
        "for epoch in range(num_epochs_softmax):\n",
        "    for batch_data_softmax, batch_labels_softmax in classify_train_loader:\n",
        "        batch_data_softmax, batch_labels_softmax = batch_data_softmax.to(device), batch_labels_softmax.to(device)\n",
        "\n",
        "        optimizer_softmax.zero_grad()\n",
        "        outputs_softmax = softmax_model(batch_data_softmax)\n",
        "        loss_softmax = criterion_softmax(outputs_softmax, batch_labels_softmax.long())\n",
        "        loss_softmax.backward()\n",
        "        optimizer_softmax.step()\n",
        "\n",
        "    print(f'Softmax Classifier - Epoch {epoch + 1}/{num_epochs_softmax}, Loss: {loss_softmax.item():.4f}')\n",
        "\n",
        "# Evaluate the softmax classifier on the test set\n",
        "softmax_model.eval()\n",
        "with torch.no_grad():\n",
        "    test_data_tensor = torch.Tensor(X_classify_test).to(device)\n",
        "    predicted_labels = softmax_model(test_data_tensor)\n",
        "    predicted_labels = torch.argmax(predicted_labels, dim=1).cpu().numpy()\n",
        "\n",
        "# Print the classification report\n",
        "print(\"Classification Report:\")\n",
        "print(classification_report(y_classify_test, predicted_labels))\n",
        "\n",
        "# Plot the confusion matrix\n",
        "cm_5_sm = confusion_matrix(y_classify_test, predicted_labels)\n",
        "plt.figure(figsize=(8, 6))\n",
        "sns.heatmap(cm_5_sm, annot=True, fmt='d', cmap='Blues', cbar=False)\n",
        "plt.xlabel('Predicted Labels')\n",
        "plt.ylabel('True Labels')\n",
        "plt.title('Confusion Matrix')\n",
        "plt.show()"
      ],
      "metadata": {
        "colab": {
          "base_uri": "https://localhost:8080/",
          "height": 850
        },
        "id": "CplwdxjMZae7",
        "outputId": "b01e0ac3-f9eb-4af0-e049-510ce298be98"
      },
      "execution_count": null,
      "outputs": [
        {
          "output_type": "stream",
          "name": "stdout",
          "text": [
            "Shape of Encoded Features: (113726, 5)\n",
            "Softmax Classifier - Epoch 1/5, Loss: 0.1607\n",
            "Softmax Classifier - Epoch 2/5, Loss: 0.0797\n",
            "Softmax Classifier - Epoch 3/5, Loss: 0.0621\n",
            "Softmax Classifier - Epoch 4/5, Loss: 0.0823\n",
            "Softmax Classifier - Epoch 5/5, Loss: 0.1448\n",
            "Classification Report:\n",
            "              precision    recall  f1-score   support\n",
            "\n",
            "           0       0.94      0.97      0.95     11311\n",
            "           1       0.97      0.94      0.95     11435\n",
            "\n",
            "    accuracy                           0.95     22746\n",
            "   macro avg       0.95      0.95      0.95     22746\n",
            "weighted avg       0.95      0.95      0.95     22746\n",
            "\n"
          ]
        },
        {
          "output_type": "display_data",
          "data": {
            "text/plain": [
              "<Figure size 800x600 with 1 Axes>"
            ],
            "image/png": "[encoded data removed]"
          },
          "metadata": {}
        }
      ]
    },
    {
      "cell_type": "markdown",
      "source": [
        "# **10 FEATURES with RNN Classifier**"
      ],
      "metadata": {
        "id": "WpRwq7Jf7FYk"
      }
    },
    {
      "cell_type": "code",
      "source": [
        "import torch\n",
        "import torch.nn as nn\n",
        "from torch.autograd import Variable\n",
        "from torch.utils.data import DataLoader, TensorDataset\n",
        "from sklearn.model_selection import train_test_split\n",
        "from sklearn.preprocessing import StandardScaler\n",
        "import numpy as np\n",
        "import pandas as pd\n",
        "\n",
        "# Separating features and labels\n",
        "X = data.iloc[:, :-1].values  #the last column is the target variable\n",
        "y = data.iloc[:, -1].values\n",
        "\n",
        "# Normalizing the data\n",
        "scaler = StandardScaler()\n",
        "X = scaler.fit_transform(X)\n",
        "\n",
        "# Splitting the data into training and testing sets\n",
        "X_train_10, X_test_10, y_train_10, y_test_10 = train_test_split(X, y, test_size=0.2, random_state=42)\n",
        "\n",
        "# Converting data to PyTorch tensors\n",
        "X_train_tensor_10 = torch.Tensor(X_train_10)\n",
        "X_test_tensor_10 = torch.Tensor(X_test_10)\n",
        "\n",
        "# Creating DataLoader instances\n",
        "batch_size = 64\n",
        "train_dataset = TensorDataset(X_train_tensor_10)\n",
        "test_dataset = TensorDataset(X_test_tensor_10)\n",
        "train_loader = DataLoader(train_dataset, batch_size=batch_size, shuffle=True)\n",
        "test_loader = DataLoader(test_dataset, batch_size=batch_size, shuffle=False)\n",
        "\n",
        "# Autoencoder definition\n",
        "class Autoencoder(nn.Module):\n",
        "    def __init__(self):\n",
        "        super(Autoencoder, self).__init__()\n",
        "        self.encoder = nn.Sequential(\n",
        "            nn.Linear(X_train.shape[1], 16),\n",
        "            nn.PReLU(16),\n",
        "            nn.BatchNorm1d(16),\n",
        "            nn.Linear(16, 10),  # Updated to 10 features\n",
        "            nn.PReLU(10),\n",
        "            nn.BatchNorm1d(10)\n",
        "        )\n",
        "        self.decoder = nn.Sequential(\n",
        "            nn.Linear(10, 16),\n",
        "            nn.PReLU(16),\n",
        "            nn.BatchNorm1d(16),\n",
        "            nn.Linear(16, X_train.shape[1])\n",
        "        )\n",
        "\n",
        "    def forward(self, x):\n",
        "        x = self.encoder(x)\n",
        "        x = self.decoder(x)\n",
        "        return x\n",
        "\n",
        "# Setting device (GPU if available)\n",
        "cuda = torch.cuda.is_available()\n",
        "device = torch.device(\"cuda\" if cuda else \"cpu\")\n",
        "\n",
        "# Creating the model and moving it to the device\n",
        "autoencoder = Autoencoder().to(device)\n",
        "\n",
        "# Defining optimizer\n",
        "optimizer = torch.optim.Adam(params=autoencoder.parameters(), lr=0.005)\n",
        "\n",
        "# Training the autoencoder\n",
        "num_epochs = 10\n",
        "\n",
        "for epoch in range(num_epochs):\n",
        "    for batch_data_10, in train_loader:\n",
        "        batch_data_10 = batch_data_10.to(device)\n",
        "\n",
        "        autoencoder.zero_grad()\n",
        "        reconstructions = autoencoder(batch_data_10)\n",
        "        loss = nn.functional.mse_loss(reconstructions, batch_data_10)\n",
        "        loss.backward()\n",
        "        optimizer.step()\n",
        "\n",
        "    print(f'Epoch {epoch + 1}/{num_epochs}, Loss: {loss.item():.4f}')\n",
        "\n",
        "# Extracting encoded features from the test set\n",
        "encoded_features_10 = []\n",
        "with torch.no_grad():\n",
        "    for batch_data_10, in test_loader:\n",
        "        batch_data_10 = batch_data_10.to(device)\n",
        "        encoded_batch = autoencoder.encoder(batch_data_10)\n",
        "        encoded_features_10.append(encoded_batch.cpu().numpy())\n",
        "\n",
        "# Concatenating the encoded features\n",
        "encoded_features_10 = np.concatenate(encoded_features_10, axis=0)\n",
        "\n",
        "# Print the shape of the encoded features\n",
        "print(\"Shape of Encoded Features of 10 features:\", encoded_features_10.shape)\n",
        "\n",
        "# `batch_data` is a batch of input data\n",
        "with torch.no_grad():\n",
        "    autoencoder.eval()\n",
        "    reconstructions = autoencoder(batch_data_10.to(device))\n",
        "    mse_loss = nn.functional.mse_loss(reconstructions, batch_data_10.to(device))\n",
        "    print(f\"Reconstruction Error (MSE) for the batch: {mse_loss.item():.4f}\")\n",
        "\n",
        "# Split the encoded features into training and testing sets for classification\n",
        "X_classify_train_10, X_classify_test_10, y_classify_train_10, y_classify_test_10 = train_test_split(encoded_features_10, y_test, test_size=0.2, random_state=42)\n",
        "\n",
        "import torch.nn.functional as F\n",
        "\n",
        "# Converting encoded features and labels to PyTorch tensor\n",
        "X_classify_train_tensor_10 = torch.Tensor(X_classify_train_10)\n",
        "y_classify_train_tensor_10 = torch.Tensor(y_classify_train_10).long()\n",
        "\n",
        "# Creating DataLoader instance for the encoded features and labels\n",
        "classify_train_dataset = TensorDataset(X_classify_train_tensor_10, y_classify_train_tensor_10)\n",
        "classify_train_loader = DataLoader(classify_train_dataset, batch_size=batch_size, shuffle=True)\n",
        "\n",
        "# Defining the RNN classifier\n",
        "class RNNClassifier(nn.Module):\n",
        "    def __init__(self, input_size, rnn_hidden_size, num_classes):\n",
        "        super(RNNClassifier, self).__init__()\n",
        "        self.rnn = nn.GRU(input_size=input_size, hidden_size=rnn_hidden_size, batch_first=True)\n",
        "        self.fc = nn.Linear(rnn_hidden_size, num_classes)\n",
        "\n",
        "    def forward(self, x):\n",
        "        out, _ = self.rnn(x)\n",
        "        out = self.fc(out[:, -1, :])  # Using the last output of the sequence\n",
        "        return out\n",
        "\n",
        "# Parameters for RNN classifier\n",
        "rnn_hidden_size_classify = 64\n",
        "num_classes_classify = 2  # binary classification\n",
        "\n",
        "# Creating the RNN classifier model  and moving to the device\n",
        "rnn_model_classify = RNNClassifier(input_size=10, rnn_hidden_size=rnn_hidden_size_classify, num_classes=num_classes_classify).to(device)\n",
        "\n",
        "# Defining the optimizer and criterion for classification\n",
        "optimizer_classify = torch.optim.Adam(params=rnn_model_classify.parameters(), lr=0.001)\n",
        "criterion_classify = nn.CrossEntropyLoss()\n",
        "\n",
        "# Training the RNN classifier\n",
        "num_epochs_classify = 10\n",
        "\n",
        "for epoch in range(num_epochs_classify):\n",
        "    for batch_data_classify, batch_labels_classify in classify_train_loader:\n",
        "        optimizer_classify.zero_grad()\n",
        "        outputs_classify = rnn_model_classify(batch_data_classify.unsqueeze(1))  # unsqueeze for sequence dimension\n",
        "        loss_classify = criterion_classify(outputs_classify, batch_labels_classify.long())\n",
        "        loss_classify.backward()\n",
        "        optimizer_classify.step()\n",
        "\n",
        "    print(f'Epoch {epoch + 1}/{num_epochs_classify}, Loss: {loss_classify.item():.4f}')\n",
        "\n",
        "# Evaluating the RNN classifier on the test set\n",
        "X_classify_test_tensor_10 = torch.Tensor(X_classify_test_10)\n",
        "y_classify_test_tensor_10 = torch.Tensor(y_classify_test_10).long()\n",
        "\n",
        "with torch.no_grad():\n",
        "    rnn_model_classify.eval()\n",
        "    outputs_test_classify_10 = rnn_model_classify(X_classify_test_tensor_10.unsqueeze(1))\n",
        "    predictions_classify_10 = torch.argmax(F.softmax(outputs_test_classify_10, dim=1), dim=1)\n",
        "\n",
        "# Print classification report\n",
        "from sklearn.metrics import classification_report\n",
        "print(\"Classification Report:\\n\", classification_report(y_classify_test_10, predictions_classify_10.cpu().numpy()))\n",
        "\n",
        "# Plot the confusion matrix\n",
        "from sklearn.metrics import confusion_matrix\n",
        "import seaborn as sns\n",
        "import matplotlib.pyplot as plt\n",
        "\n",
        "# confusion matrix calculation\n",
        "cm_10 = confusion_matrix(y_classify_test_10, predictions_classify_10.cpu().numpy())\n",
        "plt.figure(figsize=(8, 6))\n",
        "sns.heatmap(cm_10, annot=True, fmt=\"d\", cmap=\"Blues\", cbar=False)\n",
        "plt.xlabel(\"Predicted\")\n",
        "plt.ylabel(\"True\")\n",
        "plt.title(\"Confusion Matrix\")\n",
        "plt.show()\n",
        "\n"
      ],
      "metadata": {
        "colab": {
          "base_uri": "https://localhost:8080/",
          "height": 1000
        },
        "id": "BqAkc5Y27LAz",
        "outputId": "ddb0772b-1a58-45d1-f201-80eb8323cf61"
      },
      "execution_count": null,
      "outputs": [
        {
          "output_type": "stream",
          "name": "stdout",
          "text": [
            "Epoch 1/10, Loss: 0.2009\n",
            "Epoch 2/10, Loss: 0.1759\n",
            "Epoch 3/10, Loss: 0.1624\n",
            "Epoch 4/10, Loss: 0.1497\n",
            "Epoch 5/10, Loss: 0.1625\n",
            "Epoch 6/10, Loss: 0.2000\n",
            "Epoch 7/10, Loss: 0.1926\n",
            "Epoch 8/10, Loss: 0.1607\n",
            "Epoch 9/10, Loss: 0.1896\n",
            "Epoch 10/10, Loss: 0.1654\n",
            "Shape of Encoded Features of 10 features: (113726, 10)\n",
            "Reconstruction Error (MSE) for the batch: 0.1799\n",
            "Epoch 1/10, Loss: 0.1358\n",
            "Epoch 2/10, Loss: 0.1497\n",
            "Epoch 3/10, Loss: 0.1984\n",
            "Epoch 4/10, Loss: 0.0717\n",
            "Epoch 5/10, Loss: 0.1724\n",
            "Epoch 6/10, Loss: 0.0215\n",
            "Epoch 7/10, Loss: 0.0069\n",
            "Epoch 8/10, Loss: 0.0790\n",
            "Epoch 9/10, Loss: 0.0241\n",
            "Epoch 10/10, Loss: 0.0616\n",
            "Classification Report:\n",
            "               precision    recall  f1-score   support\n",
            "\n",
            "           0       0.98      0.99      0.98     11311\n",
            "           1       0.99      0.98      0.98     11435\n",
            "\n",
            "    accuracy                           0.98     22746\n",
            "   macro avg       0.98      0.98      0.98     22746\n",
            "weighted avg       0.98      0.98      0.98     22746\n",
            "\n"
          ]
        },
        {
          "output_type": "display_data",
          "data": {
            "text/plain": [
              "<Figure size 800x600 with 1 Axes>"
            ],
            "image/png": "[encoded data removed]"
          },
          "metadata": {}
        }
      ]
    },
    {
      "cell_type": "markdown",
      "source": [
        "# **10 FEATURES with SoftMax Classifier**"
      ],
      "metadata": {
        "id": "O9csSbUt9oc6"
      }
    },
    {
      "cell_type": "code",
      "source": [
        "from sklearn.metrics import classification_report, confusion_matrix\n",
        "import seaborn as sns\n",
        "import matplotlib.pyplot as plt\n",
        "\n",
        "#encoded features with 10 dimensions\n",
        "class SoftmaxClassifier(nn.Module):\n",
        "    def __init__(self, input_size, num_classes):\n",
        "        super(SoftmaxClassifier, self).__init__()\n",
        "        self.fc = nn.Linear(input_size, num_classes)\n",
        "\n",
        "    def forward(self, x):\n",
        "        return self.fc(x)\n",
        "\n",
        "# Print the shape of the encoded features\n",
        "print(\"Shape of Encoded Features for 10 features:\", encoded_features_10.shape)\n",
        "\n",
        "# Defining the number of features after encoding\n",
        "encoded_dim_10 = encoded_features_10.shape[1]\n",
        "\n",
        "# Setting up the softmax classifier model\n",
        "num_classes_softmax_10 = 2  #binary classification\n",
        "softmax_model_10 = SoftmaxClassifier(input_size=encoded_dim_10, num_classes=num_classes_softmax_10).to(device)\n",
        "\n",
        "# Defining loss function and optimizer\n",
        "criterion_softmax_10 = nn.CrossEntropyLoss()\n",
        "optimizer_softmax_10 = torch.optim.Adam(params=softmax_model_10.parameters(), lr=0.001)\n",
        "\n",
        "# Training the softmax classifier\n",
        "num_epochs_softmax_10 = 5\n",
        "\n",
        "for epoch in range(num_epochs_softmax_10):\n",
        "    for batch_data_softmax_10, batch_labels_softmax_10 in classify_train_loader:\n",
        "        batch_data_softmax_10, batch_labels_softmax_10 = batch_data_softmax_10.to(device), batch_labels_softmax_10.to(device)\n",
        "\n",
        "        optimizer_softmax_10.zero_grad()\n",
        "        outputs_softmax_10 = softmax_model_10(batch_data_softmax_10)\n",
        "        loss_softmax_10 = criterion_softmax_10(outputs_softmax_10, batch_labels_softmax_10.long())\n",
        "        loss_softmax_10.backward()\n",
        "        optimizer_softmax_10.step()\n",
        "\n",
        "    print(f'Softmax Classifier - Epoch {epoch + 1}/{num_epochs_softmax_10}, Loss: {loss_softmax_10.item():.4f}')\n",
        "\n",
        "# Evaluating the softmax classifier on the test set\n",
        "softmax_model_10.eval()\n",
        "with torch.no_grad():\n",
        "    test_data_tensor_10 = torch.Tensor(X_classify_test_10).to(device)\n",
        "    predicted_labels_10 = softmax_model_10(test_data_tensor_10)\n",
        "    predicted_labels_10 = torch.argmax(predicted_labels_10, dim=1).cpu().numpy()\n",
        "\n",
        "# Printing the classification report\n",
        "print(\"Classification Report:\")\n",
        "print(classification_report(y_classify_test_10, predicted_labels_10))\n",
        "\n",
        "# Plotting the confusion matrix\n",
        "cm_10sm = confusion_matrix(y_classify_test_10, predicted_labels_10)\n",
        "plt.figure(figsize=(8, 6))\n",
        "sns.heatmap(cm_10sm, annot=True, fmt='d', cmap='Blues', cbar=False)\n",
        "plt.xlabel('Predicted Labels')\n",
        "plt.ylabel('True Labels')\n",
        "plt.title('Confusion Matrix')\n",
        "plt.show()\n"
      ],
      "metadata": {
        "colab": {
          "base_uri": "https://localhost:8080/",
          "height": 850
        },
        "id": "xm-BbRBSCYBz",
        "outputId": "fc0f9c1b-a44d-4bab-c2d4-8baecc68b972"
      },
      "execution_count": null,
      "outputs": [
        {
          "output_type": "stream",
          "name": "stdout",
          "text": [
            "Shape of Encoded Features for 10 features: (113726, 10)\n",
            "Softmax Classifier - Epoch 1/5, Loss: 0.0816\n",
            "Softmax Classifier - Epoch 2/5, Loss: 0.1372\n",
            "Softmax Classifier - Epoch 3/5, Loss: 0.0723\n",
            "Softmax Classifier - Epoch 4/5, Loss: 0.0191\n",
            "Softmax Classifier - Epoch 5/5, Loss: 0.0908\n",
            "Classification Report:\n",
            "              precision    recall  f1-score   support\n",
            "\n",
            "           0       0.96      0.98      0.97     11311\n",
            "           1       0.98      0.96      0.97     11435\n",
            "\n",
            "    accuracy                           0.97     22746\n",
            "   macro avg       0.97      0.97      0.97     22746\n",
            "weighted avg       0.97      0.97      0.97     22746\n",
            "\n"
          ]
        },
        {
          "output_type": "display_data",
          "data": {
            "text/plain": [
              "<Figure size 800x600 with 1 Axes>"
            ],
            "image/png": "[encoded data removed]"
          },
          "metadata": {}
        }
      ]
    },
    {
      "cell_type": "markdown",
      "source": [
        "# **20 Features with RNN Classifier**"
      ],
      "metadata": {
        "id": "massaKyzDMVK"
      }
    },
    {
      "cell_type": "code",
      "source": [
        "import torch\n",
        "import torch.nn as nn\n",
        "from torch.autograd import Variable\n",
        "from torch.utils.data import DataLoader, TensorDataset\n",
        "from sklearn.model_selection import train_test_split\n",
        "from sklearn.preprocessing import StandardScaler\n",
        "import numpy as np\n",
        "import pandas as pd\n",
        "from sklearn.metrics import classification_report, confusion_matrix\n",
        "import seaborn as sns\n",
        "import matplotlib.pyplot as plt\n",
        "\n",
        "# Separate features and labels\n",
        "X = data.iloc[:, :-1].values  #the last column is the target variable\n",
        "y = data.iloc[:, -1].values\n",
        "\n",
        "# Normalize the data\n",
        "scaler = StandardScaler()\n",
        "X = scaler.fit_transform(X)\n",
        "\n",
        "# Split the data into training and testing sets\n",
        "X_train, X_test, y_train, y_test = train_test_split(X, y, test_size=0.2, random_state=42)\n",
        "\n",
        "# Convert data to PyTorch tensors\n",
        "X_train_tensor_20 = torch.Tensor(X_train)\n",
        "X_test_tensor_20 = torch.Tensor(X_test)\n",
        "\n",
        "# Create DataLoader instances\n",
        "batch_size = 64\n",
        "train_dataset = TensorDataset(X_train_tensor_20)\n",
        "test_dataset = TensorDataset(X_test_tensor_20)\n",
        "train_loader = DataLoader(train_dataset, batch_size=batch_size, shuffle=True)\n",
        "test_loader = DataLoader(test_dataset, batch_size=batch_size, shuffle=False)\n",
        "\n",
        "# Autoencoder definition\n",
        "class Autoencoder(nn.Module):\n",
        "    def __init__(self):\n",
        "        super(Autoencoder, self).__init__()\n",
        "        self.encoder = nn.Sequential(\n",
        "            nn.Linear(X_train.shape[1], 16),\n",
        "            nn.PReLU(16),\n",
        "            nn.BatchNorm1d(16),\n",
        "            nn.Linear(16, 20),  # for to 20 features\n",
        "            nn.PReLU(20),\n",
        "            nn.BatchNorm1d(20)\n",
        "        )\n",
        "        self.decoder = nn.Sequential(\n",
        "            nn.Linear(20, 16),\n",
        "            nn.PReLU(16),\n",
        "            nn.BatchNorm1d(16),\n",
        "            nn.Linear(16, X_train.shape[1])\n",
        "        )\n",
        "\n",
        "    def forward(self, x):\n",
        "        x = self.encoder(x)\n",
        "        x = self.decoder(x)\n",
        "        return x\n",
        "\n",
        "# Setting device\n",
        "cuda = torch.cuda.is_available()\n",
        "device = torch.device(\"cuda\" if cuda else \"cpu\")\n",
        "\n",
        "# Creating the model and moving it to the device\n",
        "autoencoder = Autoencoder().to(device)\n",
        "\n",
        "# Defining optimizer\n",
        "optimizer = torch.optim.Adam(params=autoencoder.parameters(), lr=0.005)\n",
        "\n",
        "# Training the autoencoder\n",
        "num_epochs = 5\n",
        "\n",
        "for epoch in range(num_epochs):\n",
        "    for batch_data, in train_loader:\n",
        "        batch_data = batch_data.to(device)\n",
        "\n",
        "        autoencoder.zero_grad()\n",
        "        reconstructions = autoencoder(batch_data)\n",
        "        loss = nn.functional.mse_loss(reconstructions, batch_data)\n",
        "        loss.backward()\n",
        "        optimizer.step()\n",
        "\n",
        "    print(f'Epoch {epoch + 1}/{num_epochs}, Loss: {loss.item():.4f}')\n",
        "\n",
        "# Extracting encoded features from the test set\n",
        "encoded_features_20 = []\n",
        "with torch.no_grad():\n",
        "    for batch_data, in test_loader:\n",
        "        batch_data = batch_data.to(device)\n",
        "        encoded_batch = autoencoder.encoder(batch_data)\n",
        "        encoded_features_20.append(encoded_batch.cpu().numpy())\n",
        "\n",
        "# Concatenating the encoded features\n",
        "encoded_features_20 = np.concatenate(encoded_features_20, axis=0)\n",
        "\n",
        "# Print the shape of the encoded features\n",
        "print(\"Shape of Encoded Features (20):\", encoded_features_20.shape)\n",
        "\n",
        "# Split the encoded features into training and testing sets for classification\n",
        "X_classify_train_20, X_classify_test_20, y_classify_train_20, y_classify_test_20 = train_test_split(encoded_features_20, y_test, test_size=0.2, random_state=42\n",
        ")\n",
        "\n",
        "# Convert encoded features and labels to PyTorch tensor\n",
        "X_classify_train_tensor_20 = torch.Tensor(X_classify_train_20)\n",
        "y_classify_train_tensor_20 = torch.Tensor(y_classify_train_20).long()\n",
        "\n",
        "# Create DataLoader instance for the encoded features and labels\n",
        "classify_train_dataset_20 = TensorDataset(X_classify_train_tensor_20, y_classify_train_tensor_20)\n",
        "classify_train_loader_20 = DataLoader(classify_train_dataset_20, batch_size=batch_size, shuffle=True)\n",
        "\n",
        "# Assuming `batch_data` is a batch of input data\n",
        "with torch.no_grad():\n",
        "    autoencoder.eval()\n",
        "    reconstructions_20 = autoencoder(batch_data.to(device))\n",
        "    mse_loss_20 = nn.functional.mse_loss(reconstructions_20, batch_data.to(device))\n",
        "    print(f\"Reconstruction Error (MSE) for the batch (20 features): {mse_loss_20.item():.4f}\")\n",
        "\n",
        "# Define the RNN classifier for 20 features\n",
        "class RNNClassifier(nn.Module):\n",
        "    def __init__(self, input_size, rnn_hidden_size, num_classes):\n",
        "        super(RNNClassifier, self).__init__()\n",
        "        self.rnn = nn.GRU(input_size=input_size, hidden_size=rnn_hidden_size, batch_first=True)\n",
        "        self.fc = nn.Linear(rnn_hidden_size, num_classes)\n",
        "\n",
        "    def forward(self, x):\n",
        "        out, _ = self.rnn(x)\n",
        "        out = self.fc(out[:, -1, :])  # Using the last output of the sequence\n",
        "        return out\n",
        "\n",
        "# Parameters for RNN classifier for 20 features\n",
        "rnn_hidden_size_classify_20 = 64\n",
        "num_classes_classify_20 = 2  # binary classification\n",
        "\n",
        "# Creating and moving the RNN classifier model to the device for 20 features\n",
        "rnn_model_classify_20 = RNNClassifier(input_size=20, rnn_hidden_size=rnn_hidden_size_classify_20, num_classes=num_classes_classify_20).to(device)\n",
        "\n",
        "# Defining the optimizer and criterion for classification for 20 features\n",
        "optimizer_classify_20 = torch.optim.Adam(params=rnn_model_classify_20.parameters(), lr=0.001)\n",
        "criterion_classify_20 = nn.CrossEntropyLoss()\n",
        "\n",
        "# Training the RNN classifier for 20 features\n",
        "num_epochs_classify_20 = 10\n",
        "\n",
        "for epoch in range(num_epochs_classify_20):\n",
        "    for batch_data_classify, batch_labels_classify in classify_train_loader_20:\n",
        "        optimizer_classify_20.zero_grad()\n",
        "        outputs_classify_20 = rnn_model_classify_20(batch_data_classify.unsqueeze(1))  #unsqueeze for sequence dimension\n",
        "        loss_classify_20 = criterion_classify_20(outputs_classify_20, batch_labels_classify.long())\n",
        "        loss_classify_20.backward()\n",
        "        optimizer_classify_20.step()\n",
        "\n",
        "    print(f'Epoch {epoch + 1}/{num_epochs_classify_20}, Loss: {loss_classify_20.item():.4f}')\n",
        "\n",
        "# Evaluate the RNN classifier on the test set\n",
        "X_classify_test_tensor_20 = torch.Tensor(X_classify_test_20)\n",
        "\n",
        "# Adding an additional dimension for the sequence length\n",
        "X_classify_test_tensor_20 = X_classify_test_tensor_20.unsqueeze(1)\n",
        "y_classify_test_tensor_20 = torch.Tensor(y_classify_test_20).long()\n",
        "\n",
        "with torch.no_grad():\n",
        "    rnn_model_classify_20.eval()\n",
        "    outputs_test_classify_20 = rnn_model_classify_20(X_classify_test_tensor_20)\n",
        "    predictions_classify = torch.argmax(F.softmax(outputs_test_classify_20, dim=1), dim=1)\n",
        "\n",
        "# Print classification report\n",
        "from sklearn.metrics import classification_report\n",
        "print(\"Classification Report:\\n\", classification_report(y_classify_test, predictions_classify.cpu().numpy()))\n",
        "\n",
        "# Plot the confusion matrix\n",
        "from sklearn.metrics import confusion_matrix\n",
        "import seaborn as sns\n",
        "import matplotlib.pyplot as plt\n",
        "\n",
        "cm_20rnn = confusion_matrix(y_classify_test, predictions_classify.cpu().numpy())\n",
        "plt.figure(figsize=(8, 6))\n",
        "sns.heatmap(cm_20rnn, annot=True, fmt=\"d\", cmap=\"Blues\", cbar=False)\n",
        "plt.xlabel(\"Predicted\")\n",
        "plt.ylabel(\"True\")\n",
        "plt.title(\"Confusion Matrix\")\n",
        "plt.show()"
      ],
      "metadata": {
        "colab": {
          "base_uri": "https://localhost:8080/",
          "height": 1000
        },
        "id": "P6oVP5PRDQ9Q",
        "outputId": "b181d2df-02cf-41db-805e-2b4aa41c9df2"
      },
      "execution_count": null,
      "outputs": [
        {
          "output_type": "stream",
          "name": "stdout",
          "text": [
            "Epoch 1/5, Loss: 0.1893\n",
            "Epoch 2/5, Loss: 0.1188\n",
            "Epoch 3/5, Loss: 0.1751\n",
            "Epoch 4/5, Loss: 0.1104\n",
            "Epoch 5/5, Loss: 0.1117\n",
            "Shape of Encoded Features (20): (113726, 20)\n",
            "Reconstruction Error (MSE) for the batch (20 features): 0.1387\n",
            "Epoch 1/10, Loss: 0.0120\n",
            "Epoch 2/10, Loss: 0.0340\n",
            "Epoch 3/10, Loss: 0.0871\n",
            "Epoch 4/10, Loss: 0.0084\n",
            "Epoch 5/10, Loss: 0.0173\n",
            "Epoch 6/10, Loss: 0.0191\n",
            "Epoch 7/10, Loss: 0.0326\n",
            "Epoch 8/10, Loss: 0.0030\n",
            "Epoch 9/10, Loss: 0.0285\n",
            "Epoch 10/10, Loss: 0.0010\n",
            "Classification Report:\n",
            "               precision    recall  f1-score   support\n",
            "\n",
            "           0       0.99      0.99      0.99     11311\n",
            "           1       0.99      0.99      0.99     11435\n",
            "\n",
            "    accuracy                           0.99     22746\n",
            "   macro avg       0.99      0.99      0.99     22746\n",
            "weighted avg       0.99      0.99      0.99     22746\n",
            "\n"
          ]
        },
        {
          "output_type": "display_data",
          "data": {
            "text/plain": [
              "<Figure size 800x600 with 1 Axes>"
            ],
            "image/png": "[encoded data removed]"
          },
          "metadata": {}
        }
      ]
    },
    {
      "cell_type": "markdown",
      "source": [
        "# **20 Features with SoftMax Classifier**"
      ],
      "metadata": {
        "id": "5REq6q3FG4DA"
      }
    },
    {
      "cell_type": "code",
      "source": [
        "from sklearn.metrics import classification_report, confusion_matrix\n",
        "import seaborn as sns\n",
        "import matplotlib.pyplot as plt\n",
        "\n",
        "# encoded features with 20 dimensions\n",
        "class SoftmaxClassifier(nn.Module):\n",
        "    def __init__(self, input_size, num_classes):\n",
        "        super(SoftmaxClassifier, self).__init__()\n",
        "        self.fc = nn.Linear(input_size, num_classes)\n",
        "\n",
        "    def forward(self, x):\n",
        "        return self.fc(x)\n",
        "\n",
        "# Print the shape of the encoded features\n",
        "print(\"Shape of Encoded Features (20):\", encoded_features_20.shape)\n",
        "\n",
        "# Define the number of features after encoding for 20 dimensions\n",
        "encoded_dim_20 = encoded_features_20.shape[1]\n",
        "\n",
        "# Set up the softmax classifier model for 20 dimensions\n",
        "num_classes_softmax_20 = 2  # binary classification\n",
        "softmax_model_20 = SoftmaxClassifier(input_size=encoded_dim_20, num_classes=num_classes_softmax_20).to(device)\n",
        "\n",
        "# Define loss function and optimizer for 20 dimensions\n",
        "criterion_softmax_20 = nn.CrossEntropyLoss()\n",
        "optimizer_softmax_20 = torch.optim.Adam(params=softmax_model_20.parameters(), lr=0.001)\n",
        "\n",
        "# Training the softmax classifier for 20 dimensions\n",
        "num_epochs_softmax_20 = 10\n",
        "\n",
        "for epoch in range(num_epochs_softmax_20):\n",
        "    for batch_data_softmax_20, batch_labels_softmax_20 in classify_train_loader_20:\n",
        "        batch_data_softmax_20, batch_labels_softmax_20 = batch_data_softmax_20.to(device), batch_labels_softmax_20.to(device)\n",
        "\n",
        "        optimizer_softmax_20.zero_grad()\n",
        "        outputs_softmax_20 = softmax_model_20(batch_data_softmax_20)\n",
        "        loss_softmax_20 = criterion_softmax_20(outputs_softmax_20, batch_labels_softmax_20.long())\n",
        "        loss_softmax_20.backward()\n",
        "        optimizer_softmax_20.step()\n",
        "\n",
        "    print(f'Softmax Classifier - Epoch {epoch + 1}/{num_epochs_softmax_20}, Loss: {loss_softmax_20.item():.4f}')\n",
        "\n",
        "# Evaluate the softmax classifier on the test set for 20 dimensions\n",
        "softmax_model_20.eval()\n",
        "with torch.no_grad():\n",
        "    test_data_tensor_20 = torch.Tensor(X_classify_test_20).to(device)\n",
        "    predicted_labels_20 = softmax_model_20(test_data_tensor_20)\n",
        "    predicted_labels_20 = torch.argmax(predicted_labels_20, dim=1).cpu().numpy()\n",
        "\n",
        "# Print the classification report for 20 dimensions\n",
        "print(\"Classification Report (20 dimensions):\")\n",
        "print(classification_report(y_classify_test_20, predicted_labels_20))\n",
        "\n",
        "# Plot the confusion matrix for 20 dimensions\n",
        "cm_20 = confusion_matrix(y_classify_test_20, predicted_labels_20)\n",
        "plt.figure(figsize=(8, 6))\n",
        "sns.heatmap(cm_20, annot=True, fmt='d', cmap='Blues', cbar=False)\n",
        "plt.xlabel('Predicted Labels')\n",
        "plt.ylabel('True Labels')\n",
        "plt.title('Confusion Matrix (20 dimensions)')\n",
        "plt.show()\n"
      ],
      "metadata": {
        "colab": {
          "base_uri": "https://localhost:8080/",
          "height": 939
        },
        "id": "ziP9rbcIHBWR",
        "outputId": "e82fb2ab-dec1-4b3f-b738-0af48bdf74df"
      },
      "execution_count": null,
      "outputs": [
        {
          "output_type": "stream",
          "name": "stdout",
          "text": [
            "Shape of Encoded Features (20): (113726, 20)\n",
            "Softmax Classifier - Epoch 1/10, Loss: 0.0587\n",
            "Softmax Classifier - Epoch 2/10, Loss: 0.0462\n",
            "Softmax Classifier - Epoch 3/10, Loss: 0.0406\n",
            "Softmax Classifier - Epoch 4/10, Loss: 0.0359\n",
            "Softmax Classifier - Epoch 5/10, Loss: 0.0463\n",
            "Softmax Classifier - Epoch 6/10, Loss: 0.0131\n",
            "Softmax Classifier - Epoch 7/10, Loss: 0.0506\n",
            "Softmax Classifier - Epoch 8/10, Loss: 0.0357\n",
            "Softmax Classifier - Epoch 9/10, Loss: 0.0268\n",
            "Softmax Classifier - Epoch 10/10, Loss: 0.0620\n",
            "Classification Report (20 dimensions):\n",
            "              precision    recall  f1-score   support\n",
            "\n",
            "           0       0.98      0.99      0.98     11311\n",
            "           1       0.99      0.98      0.98     11435\n",
            "\n",
            "    accuracy                           0.98     22746\n",
            "   macro avg       0.98      0.98      0.98     22746\n",
            "weighted avg       0.98      0.98      0.98     22746\n",
            "\n"
          ]
        },
        {
          "output_type": "display_data",
          "data": {
            "text/plain": [
              "<Figure size 800x600 with 1 Axes>"
            ],
            "image/png": "[encoded data removed]"
          },
          "metadata": {}
        }
      ]
    },
    {
      "cell_type": "markdown",
      "source": [
        "# **ALL Features with RNN Classifier**"
      ],
      "metadata": {
        "id": "yQPD3fLmHZl1"
      }
    },
    {
      "cell_type": "code",
      "source": [
        "import torch\n",
        "import torch.nn as nn\n",
        "from torch.autograd import Variable\n",
        "from torch.utils.data import DataLoader, TensorDataset\n",
        "from sklearn.model_selection import train_test_split\n",
        "from sklearn.preprocessing import StandardScaler\n",
        "import numpy as np\n",
        "import pandas as pd\n",
        "from sklearn.metrics import classification_report, confusion_matrix\n",
        "import seaborn as sns\n",
        "import matplotlib.pyplot as plt\n",
        "\n",
        "# Separate features and labels\n",
        "X = data.iloc[:, :-1].values  #last column is the target variable\n",
        "y = data.iloc[:, -1].values\n",
        "\n",
        "# Normalizing the data\n",
        "scaler = StandardScaler()\n",
        "X = scaler.fit_transform(X)\n",
        "\n",
        "# Spliting the data into training and testing sets\n",
        "X_train, X_test, y_train, y_test = train_test_split(X, y, test_size=0.2, random_state=42)\n",
        "\n",
        "# Converting data to PyTorch tensors\n",
        "X_train_tensor = torch.Tensor(X_train)\n",
        "X_test_tensor = torch.Tensor(X_test)\n",
        "\n",
        "# Creating DataLoader instances\n",
        "batch_size = 64\n",
        "train_dataset = TensorDataset(X_train_tensor)\n",
        "test_dataset = TensorDataset(X_test_tensor)\n",
        "train_loader = DataLoader(train_dataset, batch_size=batch_size, shuffle=True)\n",
        "test_loader = DataLoader(test_dataset, batch_size=batch_size, shuffle=False)\n",
        "\n",
        "# Autoencoder definition for 29 features\n",
        "class Autoencoder(nn.Module):\n",
        "    def __init__(self):\n",
        "        super(Autoencoder, self).__init__()\n",
        "        self.encoder = nn.Sequential(\n",
        "            nn.Linear(X_train.shape[1], 16),\n",
        "            nn.PReLU(16),\n",
        "            nn.BatchNorm1d(16),\n",
        "            nn.Linear(16, 29),  # Updated to 29 features\n",
        "            nn.PReLU(29),\n",
        "            nn.BatchNorm1d(29)\n",
        "        )\n",
        "        self.decoder = nn.Sequential(\n",
        "            nn.Linear(29, 16),\n",
        "            nn.PReLU(16),\n",
        "            nn.BatchNorm1d(16),\n",
        "            nn.Linear(16, X_train.shape[1])\n",
        "        )\n",
        "\n",
        "    def forward(self, x):\n",
        "        x = self.encoder(x)\n",
        "        x = self.decoder(x)\n",
        "        return x\n",
        "\n",
        "# Setting device\n",
        "cuda = torch.cuda.is_available()\n",
        "device = torch.device(\"cuda\" if cuda else \"cpu\")\n",
        "\n",
        "# Creating the model and moving it to the device\n",
        "autoencoder = Autoencoder().to(device)\n",
        "\n",
        "# Defining optimizer\n",
        "optimizer = torch.optim.Adam(params=autoencoder.parameters(), lr=0.005)\n",
        "\n",
        "# Training the autoencoder\n",
        "num_epochs = 10\n",
        "\n",
        "for epoch in range(num_epochs):\n",
        "    for batch_data, in train_loader:\n",
        "        batch_data = batch_data.to(device)\n",
        "\n",
        "        autoencoder.zero_grad()\n",
        "        reconstructions = autoencoder(batch_data)\n",
        "        loss = nn.functional.mse_loss(reconstructions, batch_data)\n",
        "        loss.backward()\n",
        "        optimizer.step()\n",
        "\n",
        "    print(f'Epoch {epoch + 1}/{num_epochs}, Loss: {loss.item():.4f}')\n",
        "\n",
        "# Extracting encoded features from the test set\n",
        "encoded_features_29 = []\n",
        "with torch.no_grad():\n",
        "    for batch_data, in test_loader:\n",
        "        batch_data = batch_data.to(device)\n",
        "        encoded_batch = autoencoder.encoder(batch_data)\n",
        "        encoded_features_29.append(encoded_batch.cpu().numpy())\n",
        "\n",
        "# Concatenating the encoded features\n",
        "encoded_features_29 = np.concatenate(encoded_features_29, axis=0)\n",
        "\n",
        "# Print the shape of the encoded features\n",
        "print(\"Shape of Encoded Features (29):\", encoded_features_29.shape)\n",
        "\n",
        "# Split the encoded features into training and testing sets for classification\n",
        "X_classify_train_29, X_classify_test_29, y_classify_train_29, y_classify_test_29 = train_test_split(\n",
        "    encoded_features_29, y_test, test_size=0.2, random_state=42\n",
        ")\n",
        "\n",
        "# Convert encoded features and labels to PyTorch tensor\n",
        "X_classify_train_tensor_29 = torch.Tensor(X_classify_train_29)\n",
        "y_classify_train_tensor_29 = torch.Tensor(y_classify_train_29).long()\n",
        "\n",
        "# Create DataLoader instance for the encoded features and labels\n",
        "classify_train_dataset_29 = TensorDataset(X_classify_train_tensor_29, y_classify_train_tensor_29)\n",
        "classify_train_loader_29 = DataLoader(classify_train_dataset_29, batch_size=batch_size, shuffle=True)\n",
        "\n",
        "#`batch_data` is a batch of input data\n",
        "with torch.no_grad():\n",
        "    autoencoder.eval()\n",
        "    reconstructions_29 = autoencoder(batch_data.to(device))\n",
        "    mse_loss_29 = nn.functional.mse_loss(reconstructions_29, batch_data.to(device))\n",
        "    print(f\"Reconstruction Error (MSE) for the batch (29 features): {mse_loss_29.item():.4f}\")\n",
        "\n",
        "# Define the RNN classifier for 29 features\n",
        "class RNNClassifier(nn.Module):\n",
        "    def __init__(self, input_size, rnn_hidden_size, num_classes):\n",
        "        super(RNNClassifier, self).__init__()\n",
        "        self.rnn = nn.GRU(input_size=input_size, hidden_size=rnn_hidden_size, batch_first=True)\n",
        "        self.fc = nn.Linear(rnn_hidden_size, num_classes)\n",
        "\n",
        "    def forward(self, x):\n",
        "        out, _ = self.rnn(x)\n",
        "        out = self.fc(out[:, -1, :])  # using last output of the sequence\n",
        "        return out\n",
        "\n",
        "# Parameters for RNN classifier for 29 features\n",
        "rnn_hidden_size_classify_29 = 64\n",
        "num_classes_classify_29 = 2  #binary classification\n",
        "\n",
        "# Creating the RNN classifier model  and moving to the device for 29 features\n",
        "rnn_model_classify_29 = RNNClassifier(\n",
        "    input_size=29, rnn_hidden_size=rnn_hidden_size_classify_29, num_classes=num_classes_classify_29\n",
        ").to(device)\n",
        "\n",
        "# Defining the optimizer and criterion for classification for 29 features\n",
        "optimizer_classify_29 = torch.optim.Adam(params=rnn_model_classify_29.parameters(), lr=0.001)\n",
        "criterion_classify_29 = nn.CrossEntropyLoss()\n",
        "\n",
        "# Training the RNN classifier for 29 features\n",
        "num_epochs_classify_29 = 10\n",
        "\n",
        "for epoch in range(num_epochs_classify_29):\n",
        "    for batch_data_classify, batch_labels_classify in classify_train_loader_29:\n",
        "        optimizer_classify_29.zero_grad()\n",
        "        outputs_classify_29 = rnn_model_classify_29(batch_data_classify.unsqueeze(1))  #unsqueeze for sequence dimension\n",
        "        loss_classify_29 = criterion_classify_29(outputs_classify_29, batch_labels_classify.long())\n",
        "        loss_classify_29.backward()\n",
        "        optimizer_classify_29.step()\n",
        "\n",
        "    print(f'Epoch {epoch + 1}/{num_epochs_classify_29}, Loss: {loss_classify_29.item():.4f}')\n",
        "\n",
        "# Evaluate the RNN classifier on the test set\n",
        "X_classify_test_tensor_29 = torch.Tensor(X_classify_test_29)\n",
        "y_classify_test_tensor_29 = torch.Tensor(y_classify_test_29).long()\n",
        "\n",
        "with torch.no_grad():\n",
        "    rnn_model_classify_29.eval()\n",
        "    outputs_test_classify_29 = rnn_model_classify_29(X_classify_test_tensor_29.unsqueeze(1))\n",
        "    predictions_classify_29 = torch.argmax(F.softmax(outputs_test_classify_29, dim=1), dim=1)\n",
        "\n",
        "# Print classification report\n",
        "from sklearn.metrics import classification_report\n",
        "print(\"Classification Report:\\n\", classification_report(y_classify_test_29, predictions_classify_29.cpu().numpy()))\n",
        "\n",
        "# Plot the confusion matrix\n",
        "from sklearn.metrics import confusion_matrix\n",
        "import seaborn as sns\n",
        "import matplotlib.pyplot as plt\n",
        "\n",
        "cm_29 = confusion_matrix(y_classify_test_29, predictions_classify_29.cpu().numpy())\n",
        "plt.figure(figsize=(8, 6))\n",
        "sns.heatmap(cm_29, annot=True, fmt=\"d\", cmap=\"Blues\", cbar=False)\n",
        "plt.xlabel(\"Predicted\")\n",
        "plt.ylabel(\"True\")\n",
        "plt.title(\"Confusion Matrix for 29 dimensions\")\n",
        "plt.show()\n"
      ],
      "metadata": {
        "colab": {
          "base_uri": "https://localhost:8080/",
          "height": 1000
        },
        "id": "TE11UOmxIxmg",
        "outputId": "0e46b76b-f90d-4e39-ccda-ff92ec5af439"
      },
      "execution_count": null,
      "outputs": [
        {
          "output_type": "stream",
          "name": "stdout",
          "text": [
            "Epoch 1/10, Loss: 0.1066\n",
            "Epoch 2/10, Loss: 0.1387\n",
            "Epoch 3/10, Loss: 0.1218\n",
            "Epoch 4/10, Loss: 0.1118\n",
            "Epoch 5/10, Loss: 0.1235\n",
            "Epoch 6/10, Loss: 0.1618\n",
            "Epoch 7/10, Loss: 0.1402\n",
            "Epoch 8/10, Loss: 0.1081\n",
            "Epoch 9/10, Loss: 0.1366\n",
            "Epoch 10/10, Loss: 0.1472\n",
            "Shape of Encoded Features (29): (113726, 29)\n",
            "Reconstruction Error (MSE) for the batch (29 features): 0.1376\n",
            "Epoch 1/10, Loss: 0.0340\n",
            "Epoch 2/10, Loss: 0.0617\n",
            "Epoch 3/10, Loss: 0.0222\n",
            "Epoch 4/10, Loss: 0.0017\n",
            "Epoch 5/10, Loss: 0.0260\n",
            "Epoch 6/10, Loss: 0.0033\n",
            "Epoch 7/10, Loss: 0.0067\n",
            "Epoch 8/10, Loss: 0.0690\n",
            "Epoch 9/10, Loss: 0.0042\n",
            "Epoch 10/10, Loss: 0.0028\n",
            "Classification Report:\n",
            "               precision    recall  f1-score   support\n",
            "\n",
            "           0       0.99      1.00      0.99     11311\n",
            "           1       1.00      0.99      0.99     11435\n",
            "\n",
            "    accuracy                           0.99     22746\n",
            "   macro avg       0.99      0.99      0.99     22746\n",
            "weighted avg       0.99      0.99      0.99     22746\n",
            "\n"
          ]
        },
        {
          "output_type": "display_data",
          "data": {
            "text/plain": [
              "<Figure size 800x600 with 1 Axes>"
            ],
            "image/png": "[encoded data removed]"
          },
          "metadata": {}
        }
      ]
    },
    {
      "cell_type": "markdown",
      "source": [
        "# **ALL Features with SoftMax Classifier**"
      ],
      "metadata": {
        "id": "qx0ZC5TNL3iH"
      }
    },
    {
      "cell_type": "code",
      "source": [
        "from sklearn.metrics import classification_report, confusion_matrix\n",
        "import seaborn as sns\n",
        "import matplotlib.pyplot as plt\n",
        "\n",
        "# sofmax classifier with 29 dimensions\n",
        "class SoftmaxClassifier(nn.Module):\n",
        "    def __init__(self, input_size, num_classes):\n",
        "        super(SoftmaxClassifier, self).__init__()\n",
        "        self.fc = nn.Linear(input_size, num_classes)\n",
        "\n",
        "    def forward(self, x):\n",
        "        return self.fc(x)\n",
        "\n",
        "# Printing the shape of the encoded features\n",
        "print(\"Shape of Encoded Features (29):\", encoded_features_29.shape)\n",
        "\n",
        "# Defining the number of features after encoding for 29 dimensions\n",
        "encoded_dim_29 = encoded_features_29.shape[1]\n",
        "\n",
        "# Setting up the softmax classifier model for 29 dimensions\n",
        "num_classes_softmax_29 = 2  #binary classification\n",
        "softmax_model_29 = SoftmaxClassifier(input_size=encoded_dim_29, num_classes=num_classes_softmax_29).to(device)\n",
        "\n",
        "# Defining loss function and optimizer for 29 dimensions\n",
        "criterion_softmax_29 = nn.CrossEntropyLoss()\n",
        "optimizer_softmax_29 = torch.optim.Adam(params=softmax_model_29.parameters(), lr=0.001)\n",
        "\n",
        "# Training the softmax classifier for 29 dimensions\n",
        "num_epochs_softmax_29 = 10\n",
        "\n",
        "for epoch in range(num_epochs_softmax_29):\n",
        "    for batch_data_softmax_29, batch_labels_softmax_29 in classify_train_loader_29:\n",
        "        batch_data_softmax_29, batch_labels_softmax_29 = batch_data_softmax_29.to(device), batch_labels_softmax_29.to(device)\n",
        "\n",
        "        optimizer_softmax_29.zero_grad()\n",
        "        outputs_softmax_29 = softmax_model_29(batch_data_softmax_29)\n",
        "        loss_softmax_29 = criterion_softmax_29(outputs_softmax_29, batch_labels_softmax_29.long())\n",
        "        loss_softmax_29.backward()\n",
        "        optimizer_softmax_29.step()\n",
        "\n",
        "    print(f'Softmax Classifier - Epoch {epoch + 1}/{num_epochs_softmax_29}, Loss: {loss_softmax_29.item():.4f}')\n",
        "\n",
        "# Evaluate the softmax classifier on the test set for 29 dimensions\n",
        "softmax_model_29.eval()\n",
        "with torch.no_grad():\n",
        "    test_data_tensor_29 = torch.Tensor(X_classify_test_29).to(device)\n",
        "    predicted_labels_29 = softmax_model_29(test_data_tensor_29)\n",
        "    predicted_labels_29 = torch.argmax(predicted_labels_29, dim=1).cpu().numpy()\n",
        "\n",
        "# Print the classification report for 29 dimensions\n",
        "print(\"Classification Report (29 dimensions):\")\n",
        "print(classification_report(y_classify_test_29, predicted_labels_29))\n",
        "\n",
        "# Plot the confusion matrix for 29 dimensions\n",
        "cm_29sm = confusion_matrix(y_classify_test_29, predicted_labels_29)\n",
        "plt.figure(figsize=(8, 6))\n",
        "sns.heatmap(cm_29sm, annot=True, fmt='d', cmap='Blues', cbar=False)\n",
        "plt.xlabel('Predicted Labels')\n",
        "plt.ylabel('True Labels')\n",
        "plt.title('Confusion Matrix (29 dimensions)')\n",
        "plt.show()\n"
      ],
      "metadata": {
        "colab": {
          "base_uri": "https://localhost:8080/",
          "height": 939
        },
        "id": "8oHdFyL1L23u",
        "outputId": "cc37f8aa-7567-43e4-cfb1-f18c2b5b59fe"
      },
      "execution_count": null,
      "outputs": [
        {
          "output_type": "stream",
          "name": "stdout",
          "text": [
            "Shape of Encoded Features (29): (113726, 29)\n",
            "Softmax Classifier - Epoch 1/10, Loss: 0.1663\n",
            "Softmax Classifier - Epoch 2/10, Loss: 0.1064\n",
            "Softmax Classifier - Epoch 3/10, Loss: 0.0902\n",
            "Softmax Classifier - Epoch 4/10, Loss: 0.0644\n",
            "Softmax Classifier - Epoch 5/10, Loss: 0.0436\n",
            "Softmax Classifier - Epoch 6/10, Loss: 0.0348\n",
            "Softmax Classifier - Epoch 7/10, Loss: 0.0544\n",
            "Softmax Classifier - Epoch 8/10, Loss: 0.0252\n",
            "Softmax Classifier - Epoch 9/10, Loss: 0.0757\n",
            "Softmax Classifier - Epoch 10/10, Loss: 0.0132\n",
            "Classification Report (29 dimensions):\n",
            "              precision    recall  f1-score   support\n",
            "\n",
            "           0       0.98      0.98      0.98     11311\n",
            "           1       0.98      0.98      0.98     11435\n",
            "\n",
            "    accuracy                           0.98     22746\n",
            "   macro avg       0.98      0.98      0.98     22746\n",
            "weighted avg       0.98      0.98      0.98     22746\n",
            "\n"
          ]
        },
        {
          "output_type": "display_data",
          "data": {
            "text/plain": [
              "<Figure size 800x600 with 1 Axes>"
            ],
            "image/png": "[encoded data removed]"
          },
          "metadata": {}
        }
      ]
    },
    {
      "cell_type": "markdown",
      "source": [
        "# **Comparing ALL RNN CLASSIFIERS with DIFFERENT NO. OF FEATURES**"
      ],
      "metadata": {
        "id": "gAr_wX9Ci3b4"
      }
    },
    {
      "cell_type": "code",
      "source": [
        "from IPython.display import display, Markdown\n",
        "from sklearn.metrics import classification_report, confusion_matrix\n",
        "import seaborn as sns\n",
        "import matplotlib.pyplot as plt\n",
        "\n",
        "classification_report_5 = cm\n",
        "classification_report_10 = cm_10\n",
        "classification_report_20 = cm_20rnn\n",
        "classification_report_29 = cm_29\n",
        "\n",
        "# Create subplots with 2 columns\n",
        "fig, axes = plt.subplots(nrows=2, ncols=2, figsize=(12, 10))\n",
        "\n",
        "# Displaying the classification reports using Markdown\n",
        "display(Markdown(\"### Classification Report - 5 Features\"))\n",
        "print(classification_report_5)\n",
        "\n",
        "# Confusion matrix for 5 features\n",
        "sns.heatmap(cm, annot=True, fmt='d', cmap='Blues', cbar=False, ax=axes[0, 0])\n",
        "axes[0, 0].set_xlabel('Predicted Labels')\n",
        "axes[0, 0].set_ylabel('True Labels')\n",
        "axes[0, 0].set_title('Confusion Matrix - 5 Features using RNN')\n",
        "\n",
        "display(Markdown(\"### Classification Report - 10 Features\"))\n",
        "print(classification_report_10)\n",
        "\n",
        "# Confusion matrix for 10 features\n",
        "sns.heatmap(cm_10, annot=True, fmt='d', cmap='Blues', cbar=False, ax=axes[0, 1])\n",
        "axes[0, 1].set_xlabel('Predicted Labels')\n",
        "axes[0, 1].set_ylabel('True Labels')\n",
        "axes[0, 1].set_title('Confusion Matrix - 10 Features using RNN')\n",
        "\n",
        "display(Markdown(\"### Classification Report - 20 Features\"))\n",
        "print(classification_report_20)\n",
        "\n",
        "# Confusion matrix for 20 features\n",
        "sns.heatmap(cm_20rnn, annot=True, fmt='d', cmap='Blues', cbar=False, ax=axes[1, 0])\n",
        "axes[1, 0].set_xlabel('Predicted Labels')\n",
        "axes[1, 0].set_ylabel('True Labels')\n",
        "axes[1, 0].set_title('Confusion Matrix - 20 Features using RNN')\n",
        "\n",
        "display(Markdown(\"### Classification Report - 29 Features\"))\n",
        "print(classification_report_29)\n",
        "\n",
        "# Confusion matrix for 29 features\n",
        "sns.heatmap(cm_29, annot=True, fmt='d', cmap='Blues', cbar=False, ax=axes[1, 1])\n",
        "axes[1, 1].set_xlabel('Predicted Labels')\n",
        "axes[1, 1].set_ylabel('True Labels')\n",
        "axes[1, 1].set_title('Confusion Matrix - 29 Features using RNN')\n",
        "\n",
        "# Adjust layout\n",
        "plt.tight_layout()\n",
        "plt.show()\n"
      ],
      "metadata": {
        "colab": {
          "base_uri": "https://localhost:8080/",
          "height": 1000
        },
        "id": "OoVaN46EhtKb",
        "outputId": "376512ec-ef7e-4ebe-b336-5bdce6040f9f"
      },
      "execution_count": null,
      "outputs": [
        {
          "output_type": "display_data",
          "data": {
            "text/plain": [
              "<IPython.core.display.Markdown object>"
            ],
            "text/markdown": "### Classification Report - 5 Features"
          },
          "metadata": {}
        },
        {
          "output_type": "stream",
          "name": "stdout",
          "text": [
            "[[10956   355]\n",
            " [  740 10695]]\n"
          ]
        },
        {
          "output_type": "display_data",
          "data": {
            "text/plain": [
              "<IPython.core.display.Markdown object>"
            ],
            "text/markdown": "### Classification Report - 10 Features"
          },
          "metadata": {}
        },
        {
          "output_type": "stream",
          "name": "stdout",
          "text": [
            "[[11181   130]\n",
            " [  240 11195]]\n"
          ]
        },
        {
          "output_type": "display_data",
          "data": {
            "text/plain": [
              "<IPython.core.display.Markdown object>"
            ],
            "text/markdown": "### Classification Report - 20 Features"
          },
          "metadata": {}
        },
        {
          "output_type": "stream",
          "name": "stdout",
          "text": [
            "[[11224    87]\n",
            " [  105 11330]]\n"
          ]
        },
        {
          "output_type": "display_data",
          "data": {
            "text/plain": [
              "<IPython.core.display.Markdown object>"
            ],
            "text/markdown": "### Classification Report - 29 Features"
          },
          "metadata": {}
        },
        {
          "output_type": "stream",
          "name": "stdout",
          "text": [
            "[[11260    51]\n",
            " [  136 11299]]\n"
          ]
        },
        {
          "output_type": "display_data",
          "data": {
            "text/plain": [
              "<Figure size 1200x1000 with 4 Axes>"
            ],
            "image/png": "[encoded data removed]"
          },
          "metadata": {}
        }
      ]
    },
    {
      "cell_type": "markdown",
      "source": [
        "# **Comparing ALL SOFTMAX CLASSIFIERS with DIFFERENT NO. OF FEATURES**"
      ],
      "metadata": {
        "id": "AiWuunlPjEfR"
      }
    },
    {
      "cell_type": "code",
      "source": [
        "from IPython.display import display, Markdown\n",
        "from sklearn.metrics import classification_report, confusion_matrix\n",
        "import seaborn as sns\n",
        "import matplotlib.pyplot as plt\n",
        "\n",
        "classification_report_5 = cm_5_sm\n",
        "classification_report_10 = cm_10sm\n",
        "classification_report_20 = cm_20\n",
        "classification_report_29 = cm_29sm\n",
        "\n",
        "# Create subplots with 2 columns\n",
        "fig, axes = plt.subplots(nrows=2, ncols=2, figsize=(12, 10))\n",
        "\n",
        "# Displaying the classification reports using Markdown\n",
        "display(Markdown(\"### Classification Report - 5 Features\"))\n",
        "print(classification_report_5)\n",
        "\n",
        "# Confusion matrix for 5 features\n",
        "sns.heatmap(cm_5_sm, annot=True, fmt='d', cmap='Blues', cbar=False, ax=axes[0, 0])\n",
        "axes[0, 0].set_xlabel('Predicted Labels')\n",
        "axes[0, 0].set_ylabel('True Labels')\n",
        "axes[0, 0].set_title('Confusion Matrix - 5 Features using SoftMax Classifier')\n",
        "\n",
        "display(Markdown(\"### Classification Report - 10 Features\"))\n",
        "print(classification_report_10)\n",
        "\n",
        "# Confusion matrix for 10 features\n",
        "sns.heatmap(cm_10sm, annot=True, fmt='d', cmap='Blues', cbar=False, ax=axes[0, 1])\n",
        "axes[0, 1].set_xlabel('Predicted Labels')\n",
        "axes[0, 1].set_ylabel('True Labels')\n",
        "axes[0, 1].set_title('Confusion Matrix - 10 Features using SoftMax Classifier')\n",
        "\n",
        "display(Markdown(\"### Classification Report - 20 Features\"))\n",
        "print(classification_report_20)\n",
        "\n",
        "# Confusion matrix for 20 features\n",
        "sns.heatmap(cm_20, annot=True, fmt='d', cmap='Blues', cbar=False, ax=axes[1, 0])\n",
        "axes[1, 0].set_xlabel('Predicted Labels')\n",
        "axes[1, 0].set_ylabel('True Labels')\n",
        "axes[1, 0].set_title('Confusion Matrix - 20 Features using SoftMax Classifier')\n",
        "\n",
        "display(Markdown(\"### Classification Report - 29 Features\"))\n",
        "print(classification_report_29)\n",
        "\n",
        "# Confusion matrix for 29 features\n",
        "sns.heatmap(cm_29sm, annot=True, fmt='d', cmap='Blues', cbar=False, ax=axes[1, 1])\n",
        "axes[1, 1].set_xlabel('Predicted Labels')\n",
        "axes[1, 1].set_ylabel('True Labels')\n",
        "axes[1, 1].set_title('Confusion Matrix - 29 Features using SoftMax Classifier')\n",
        "\n",
        "# Adjust layout\n",
        "plt.tight_layout()\n",
        "plt.show()\n"
      ],
      "metadata": {
        "colab": {
          "base_uri": "https://localhost:8080/",
          "height": 1000
        },
        "id": "wdZx2QgBjEEd",
        "outputId": "ff7b2085-9c26-4a58-aab1-60986070b7e7"
      },
      "execution_count": null,
      "outputs": [
        {
          "output_type": "display_data",
          "data": {
            "text/plain": [
              "<IPython.core.display.Markdown object>"
            ],
            "text/markdown": "### Classification Report - 5 Features"
          },
          "metadata": {}
        },
        {
          "output_type": "stream",
          "name": "stdout",
          "text": [
            "[[10944   367]\n",
            " [  730 10705]]\n"
          ]
        },
        {
          "output_type": "display_data",
          "data": {
            "text/plain": [
              "<IPython.core.display.Markdown object>"
            ],
            "text/markdown": "### Classification Report - 10 Features"
          },
          "metadata": {}
        },
        {
          "output_type": "stream",
          "name": "stdout",
          "text": [
            "[[11129   182]\n",
            " [  488 10947]]\n"
          ]
        },
        {
          "output_type": "display_data",
          "data": {
            "text/plain": [
              "<IPython.core.display.Markdown object>"
            ],
            "text/markdown": "### Classification Report - 20 Features"
          },
          "metadata": {}
        },
        {
          "output_type": "stream",
          "name": "stdout",
          "text": [
            "[[11160   151]\n",
            " [  253 11182]]\n"
          ]
        },
        {
          "output_type": "display_data",
          "data": {
            "text/plain": [
              "<IPython.core.display.Markdown object>"
            ],
            "text/markdown": "### Classification Report - 29 Features"
          },
          "metadata": {}
        },
        {
          "output_type": "stream",
          "name": "stdout",
          "text": [
            "[[11113   198]\n",
            " [  207 11228]]\n"
          ]
        },
        {
          "output_type": "display_data",
          "data": {
            "text/plain": [
              "<Figure size 1200x1000 with 4 Axes>"
            ],
            "image/png": "[encoded data removed]"
          },
          "metadata": {}
        }
      ]
    }
  ]
}